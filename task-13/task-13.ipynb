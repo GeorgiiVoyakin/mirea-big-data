{
 "cells": [
  {
   "cell_type": "code",
   "execution_count": 126,
   "metadata": {},
   "outputs": [
    {
     "name": "stdout",
     "output_type": "stream",
     "text": [
      "Requirement already satisfied: deap in /opt/conda/lib/python3.9/site-packages (1.3.3)\n",
      "Requirement already satisfied: numpy in /opt/conda/lib/python3.9/site-packages (from deap) (1.21.5)\n",
      "\u001b[33mWARNING: Running pip as the 'root' user can result in broken permissions and conflicting behaviour with the system package manager. It is recommended to use a virtual environment instead: https://pip.pypa.io/warnings/venv\u001b[0m\n"
     ]
    }
   ],
   "source": [
    "!pip3 install deap"
   ]
  },
  {
   "cell_type": "code",
   "execution_count": 127,
   "metadata": {},
   "outputs": [],
   "source": [
    "import pandas as pd\n",
    "from deap import base\n",
    "from deap import creator\n",
    "from deap import tools\n",
    "from deap import algorithms\n",
    "import random\n",
    "import numpy\n",
    "import matplotlib.pyplot as plt\n",
    "import seaborn as sns\n",
    "from sklearn import model_selection\n",
    "from sklearn.tree import DecisionTreeClassifier"
   ]
  },
  {
   "cell_type": "code",
   "execution_count": 128,
   "metadata": {},
   "outputs": [],
   "source": [
    "def eaSimpleWithElitism(population, toolbox, cxpb, mutpb, ngen, stats=None,\n",
    "             halloffame=None, verbose=__debug__):\n",
    "    \"\"\"This algorithm is similar to DEAP eaSimple() algorithm, with the modification that\n",
    "    halloffame is used to implement an elitism mechanism. The individuals contained in the\n",
    "    halloffame are directly injected into the next generation and are not subject to the\n",
    "    genetic operators of selection, crossover and mutation.\n",
    "    \"\"\"\n",
    "    logbook = tools.Logbook()\n",
    "    logbook.header = ['gen', 'nevals'] + (stats.fields if stats else [])\n",
    "\n",
    "    # Evaluate the individuals with an invalid fitness\n",
    "    invalid_ind = [ind for ind in population if not ind.fitness.valid]\n",
    "    fitnesses = toolbox.map(toolbox.evaluate, invalid_ind)\n",
    "    for ind, fit in zip(invalid_ind, fitnesses):\n",
    "        ind.fitness.values = fit\n",
    "\n",
    "    if halloffame is None:\n",
    "        raise ValueError(\"halloffame parameter must not be empty!\")\n",
    "\n",
    "    halloffame.update(population)\n",
    "    hof_size = len(halloffame.items) if halloffame.items else 0\n",
    "\n",
    "    record = stats.compile(population) if stats else {}\n",
    "    logbook.record(gen=0, nevals=len(invalid_ind), **record)\n",
    "    if verbose:\n",
    "        print(logbook.stream)\n",
    "\n",
    "    # Begin the generational process\n",
    "    for gen in range(1, ngen + 1):\n",
    "\n",
    "        # Select the next generation individuals\n",
    "        offspring = toolbox.select(population, len(population) - hof_size)\n",
    "\n",
    "        # Vary the pool of individuals\n",
    "        offspring = algorithms.varAnd(offspring, toolbox, cxpb, mutpb)\n",
    "\n",
    "        # Evaluate the individuals with an invalid fitness\n",
    "        invalid_ind = [ind for ind in offspring if not ind.fitness.valid]\n",
    "        fitnesses = toolbox.map(toolbox.evaluate, invalid_ind)\n",
    "        for ind, fit in zip(invalid_ind, fitnesses):\n",
    "            ind.fitness.values = fit\n",
    "\n",
    "        # add the best back to population:\n",
    "        offspring.extend(halloffame.items)\n",
    "\n",
    "        # Update the hall of fame with the generated individuals\n",
    "        halloffame.update(offspring)\n",
    "\n",
    "        # Replace the current population by the offspring\n",
    "        population[:] = offspring\n",
    "\n",
    "        # Append the current generation statistics to the logbook\n",
    "        record = stats.compile(population) if stats else {}\n",
    "        logbook.record(gen=gen, nevals=len(invalid_ind), **record)\n",
    "        if verbose:\n",
    "            print(logbook.stream)\n",
    "\n",
    "    return population, logbook"
   ]
  },
  {
   "cell_type": "code",
   "execution_count": 129,
   "metadata": {},
   "outputs": [],
   "source": [
    "POPULATION_SIZE = 50\n",
    "P_CROSSOVER = 0.9 # probability for crossover\n",
    "P_MUTATION = 0.3 #probability for mutating an individual\n",
    "MAX_GENERATIONS = 80\n",
    "HALL_OF_FAME_SIZE = 5\n",
    "FEATURE_PENALTY_FACTOR = 0.001\n",
    "\n",
    "random.seed(2)"
   ]
  },
  {
   "cell_type": "markdown",
   "metadata": {},
   "source": [
    "Class -> (2 for benign, 4 for malignant)"
   ]
  },
  {
   "cell_type": "code",
   "execution_count": 130,
   "metadata": {},
   "outputs": [],
   "source": [
    "class Breasts():\n",
    "\n",
    "    NUM_FOLDS = 5\n",
    "\n",
    "    def __init__(self):\n",
    "        self.data = pd.read_csv('breast-cancer-wisconsin1.data')\n",
    "\n",
    "        self.X = self.data.iloc[:, 1:10]\n",
    "        self.y = self.data.iloc[:, 10]\n",
    "\n",
    "        self.kfold = model_selection.KFold(\n",
    "            n_splits=self.NUM_FOLDS, random_state=443, shuffle=True)\n",
    "        self.classifier = DecisionTreeClassifier(random_state=30)\n",
    "\n",
    "    def __len__(self):\n",
    "        return self.X.shape[1]\n",
    "\n",
    "    def get_mean_accuracy(self, zeroOneList):\n",
    "        zeroIndicies = [i for i, n in enumerate(zeroOneList) if n == 0]\n",
    "        currentX = self.X.drop(self.X.columns[zeroIndicies], axis=1)\n",
    "\n",
    "        cv_results = model_selection.cross_val_score(self.classifier,\n",
    "                                                     currentX,\n",
    "                                                     self.y,\n",
    "                                                     cv=self.kfold,\n",
    "                                                     scoring='accuracy')\n",
    "        return cv_results.mean()\n"
   ]
  },
  {
   "cell_type": "code",
   "execution_count": 131,
   "metadata": {},
   "outputs": [],
   "source": [
    "breasts = Breasts()"
   ]
  },
  {
   "cell_type": "code",
   "execution_count": 132,
   "metadata": {},
   "outputs": [],
   "source": [
    "toolbox = base.Toolbox()"
   ]
  },
  {
   "cell_type": "code",
   "execution_count": 133,
   "metadata": {},
   "outputs": [
    {
     "name": "stderr",
     "output_type": "stream",
     "text": [
      "/opt/conda/lib/python3.9/site-packages/deap/creator.py:138: RuntimeWarning: A class named 'FitnessMax' has already been created and it will be overwritten. Consider deleting previous creation of that class or rename it.\n",
      "  warnings.warn(\"A class named '{0}' has already been created and it \"\n",
      "/opt/conda/lib/python3.9/site-packages/deap/creator.py:138: RuntimeWarning: A class named 'Individual' has already been created and it will be overwritten. Consider deleting previous creation of that class or rename it.\n",
      "  warnings.warn(\"A class named '{0}' has already been created and it \"\n"
     ]
    }
   ],
   "source": [
    "creator.create(\"FitnessMax\", base.Fitness, weights=(1.0,))\n",
    "creator.create(\"Individual\", list, fitness=creator.FitnessMax)\n",
    "toolbox.register(\"zeroOrOne\", random.randint, 0, 1)\n",
    "toolbox.register(\"individualCreator\", tools.initRepeat, creator.Individual, toolbox.zeroOrOne, len(breasts))\n",
    "toolbox.register(\"populationCreator\", tools.initRepeat, list, toolbox.individualCreator)"
   ]
  },
  {
   "cell_type": "code",
   "execution_count": 134,
   "metadata": {},
   "outputs": [],
   "source": [
    "def breast_cancer_classification_accuracy(individual):\n",
    "    numFeaturesUsed = sum(individual)\n",
    "    if numFeaturesUsed == 0:\n",
    "        return 0.0,\n",
    "    else:\n",
    "        accuracy = breasts.get_mean_accuracy(individual)\n",
    "        return accuracy - FEATURE_PENALTY_FACTOR * numFeaturesUsed,"
   ]
  },
  {
   "cell_type": "code",
   "execution_count": 135,
   "metadata": {},
   "outputs": [],
   "source": [
    "toolbox.register('evaluate', breast_cancer_classification_accuracy)\n",
    "toolbox.register('select', tools.selTournament, tournsize=2)\n",
    "toolbox.register('mate', tools.cxTwoPoint)\n",
    "toolbox.register('mutate', tools.mutFlipBit, indpb=1.0/len(breasts))"
   ]
  },
  {
   "cell_type": "code",
   "execution_count": 136,
   "metadata": {},
   "outputs": [],
   "source": [
    "population = toolbox.populationCreator(n=POPULATION_SIZE)"
   ]
  },
  {
   "cell_type": "code",
   "execution_count": 137,
   "metadata": {},
   "outputs": [],
   "source": [
    "stats = tools.Statistics(lambda ind: ind.fitness.values)\n",
    "stats.register('max', numpy.max)\n",
    "stats.register('avg', numpy.mean)"
   ]
  },
  {
   "cell_type": "code",
   "execution_count": 138,
   "metadata": {},
   "outputs": [],
   "source": [
    "hof = tools.HallOfFame(HALL_OF_FAME_SIZE)"
   ]
  },
  {
   "cell_type": "code",
   "execution_count": 139,
   "metadata": {},
   "outputs": [
    {
     "name": "stdout",
     "output_type": "stream",
     "text": [
      "gen\tnevals\tmax     \tavg     \n",
      "0  \t50    \t0.956316\t0.906568\n",
      "1  \t43    \t0.956316\t0.930037\n",
      "2  \t45    \t0.956316\t0.932687\n",
      "3  \t41    \t0.956316\t0.935492\n",
      "4  \t41    \t0.956316\t0.937675\n",
      "5  \t45    \t0.956316\t0.942077\n",
      "6  \t43    \t0.956316\t0.942935\n",
      "7  \t43    \t0.956316\t0.942266\n",
      "8  \t42    \t0.956316\t0.944161\n",
      "9  \t41    \t0.956316\t0.945538\n",
      "10 \t41    \t0.956316\t0.947272\n",
      "11 \t40    \t0.956316\t0.94799 \n",
      "12 \t40    \t0.956316\t0.949552\n",
      "13 \t45    \t0.956316\t0.94922 \n",
      "14 \t44    \t0.956316\t0.948755\n",
      "15 \t40    \t0.956316\t0.949777\n",
      "16 \t34    \t0.956316\t0.947919\n",
      "17 \t44    \t0.956316\t0.949061\n",
      "18 \t32    \t0.956316\t0.949722\n",
      "19 \t43    \t0.956316\t0.946887\n",
      "20 \t39    \t0.956316\t0.952538\n",
      "21 \t38    \t0.956316\t0.950559\n",
      "22 \t40    \t0.956316\t0.95122 \n",
      "23 \t43    \t0.956316\t0.950039\n",
      "24 \t40    \t0.956316\t0.950033\n",
      "25 \t38    \t0.956316\t0.948408\n",
      "26 \t40    \t0.956316\t0.948035\n",
      "27 \t43    \t0.956316\t0.95043 \n",
      "28 \t42    \t0.956316\t0.949853\n",
      "29 \t43    \t0.956316\t0.950307\n",
      "30 \t38    \t0.956316\t0.950891\n",
      "31 \t40    \t0.956316\t0.948402\n",
      "32 \t40    \t0.956316\t0.949276\n",
      "33 \t45    \t0.956316\t0.946743\n",
      "34 \t42    \t0.956316\t0.948797\n",
      "35 \t42    \t0.956316\t0.948757\n",
      "36 \t41    \t0.956316\t0.948829\n",
      "37 \t44    \t0.956316\t0.949268\n",
      "38 \t44    \t0.956316\t0.952778\n",
      "39 \t43    \t0.956316\t0.949364\n",
      "40 \t42    \t0.956316\t0.950402\n",
      "41 \t42    \t0.956316\t0.94885 \n",
      "42 \t33    \t0.956316\t0.950188\n",
      "43 \t42    \t0.956316\t0.94973 \n",
      "44 \t39    \t0.956316\t0.949478\n",
      "45 \t39    \t0.956316\t0.95073 \n",
      "46 \t41    \t0.956316\t0.947109\n",
      "47 \t40    \t0.956316\t0.949448\n",
      "48 \t42    \t0.956316\t0.949545\n",
      "49 \t43    \t0.956316\t0.947118\n",
      "50 \t42    \t0.956316\t0.947627\n",
      "51 \t42    \t0.956316\t0.949384\n",
      "52 \t43    \t0.956316\t0.949594\n",
      "53 \t40    \t0.956316\t0.951475\n",
      "54 \t40    \t0.956316\t0.95227 \n",
      "55 \t43    \t0.956316\t0.946768\n",
      "56 \t40    \t0.956316\t0.946576\n",
      "57 \t37    \t0.956316\t0.948379\n",
      "58 \t39    \t0.956316\t0.951313\n",
      "59 \t38    \t0.956316\t0.949993\n",
      "60 \t40    \t0.956316\t0.949324\n",
      "61 \t38    \t0.956316\t0.949481\n",
      "62 \t39    \t0.956316\t0.948683\n",
      "63 \t42    \t0.956316\t0.949221\n",
      "64 \t41    \t0.956316\t0.947487\n",
      "65 \t37    \t0.956316\t0.95015 \n",
      "66 \t39    \t0.956316\t0.949348\n",
      "67 \t42    \t0.956316\t0.950287\n",
      "68 \t42    \t0.956316\t0.950348\n",
      "69 \t42    \t0.956316\t0.952139\n",
      "70 \t36    \t0.956316\t0.950196\n",
      "71 \t41    \t0.956316\t0.949723\n",
      "72 \t38    \t0.956316\t0.950691\n",
      "73 \t39    \t0.956316\t0.950017\n",
      "74 \t40    \t0.956316\t0.951313\n",
      "75 \t44    \t0.956316\t0.948944\n",
      "76 \t39    \t0.956316\t0.950187\n",
      "77 \t41    \t0.956316\t0.949249\n",
      "78 \t42    \t0.956316\t0.949307\n",
      "79 \t39    \t0.956316\t0.948885\n",
      "80 \t42    \t0.956316\t0.948769\n"
     ]
    }
   ],
   "source": [
    "population, logbook = eaSimpleWithElitism(population=population,\n",
    "                                          toolbox=toolbox,\n",
    "                                          cxpb=P_CROSSOVER,\n",
    "                                          mutpb=P_MUTATION,\n",
    "                                          ngen=MAX_GENERATIONS,\n",
    "                                          stats=stats,\n",
    "                                          halloffame=hof,\n",
    "                                          verbose=True)\n"
   ]
  },
  {
   "cell_type": "code",
   "execution_count": 140,
   "metadata": {},
   "outputs": [
    {
     "name": "stdout",
     "output_type": "stream",
     "text": [
      "- Лучшие решения:\n",
      "0 :  [1, 0, 0, 1, 0, 1, 1, 1, 0] , приспособленность =  0.9563155190133608 , верность =  0.9613155190133608 , признаков =  5\n",
      "1 :  [1, 0, 0, 0, 1, 1, 0, 1, 1] , приспособленность =  0.9520195272353544 , верность =  0.9570195272353544 , признаков =  5\n",
      "2 :  [1, 0, 1, 0, 0, 0, 0, 1, 0] , приспособленность =  0.9511623843782118 , верность =  0.9541623843782118 , признаков =  3\n",
      "3 :  [1, 0, 0, 0, 1, 1, 0, 1, 0] , приспособленность =  0.9501418293936278 , верность =  0.9541418293936278 , признаков =  4\n",
      "4 :  [1, 0, 0, 1, 0, 1, 0, 1, 0] , приспособленность =  0.9486927029804728 , верность =  0.9526927029804728 , признаков =  4\n"
     ]
    }
   ],
   "source": [
    "print('- Лучшие решения:')\n",
    "for i in range(HALL_OF_FAME_SIZE):\n",
    "    print(i, ': ', hof.items[i], ', приспособленность = ', hof.items[i].fitness.values[0],\n",
    "          ', верность = ', breasts.get_mean_accuracy(hof.items[i]),\n",
    "          ', признаков = ', sum(hof.items[i]))"
   ]
  },
  {
   "cell_type": "code",
   "execution_count": 141,
   "metadata": {},
   "outputs": [],
   "source": [
    "maxFitnessValues, meanFitnessValues = logbook.select(\"max\", \"avg\")"
   ]
  },
  {
   "cell_type": "code",
   "execution_count": 142,
   "metadata": {},
   "outputs": [
    {
     "data": {
      "image/png": "[encoded data removed]",
      "text/plain": [
       "<Figure size 432x288 with 1 Axes>"
      ]
     },
     "metadata": {},
     "output_type": "display_data"
    }
   ],
   "source": [
    "sns.set_style('whitegrid')\n",
    "plt.plot(maxFitnessValues, color='red')\n",
    "plt.plot(meanFitnessValues, color='green')\n",
    "plt. xlabel('Generation')\n",
    "plt.ylabel('Max / Average Fitness')\n",
    "plt.title('Max and Average fitness over Generations')\n",
    "plt.show()"
   ]
  },
  {
   "cell_type": "code",
   "execution_count": 143,
   "metadata": {},
   "outputs": [
    {
     "name": "stdout",
     "output_type": "stream",
     "text": [
      "-- Выделены все признаки:  [1, 1, 1, 1, 1, 1, 1, 1, 1] , accuracy =  0.9384069886947584\n"
     ]
    }
   ],
   "source": [
    "allOnes = [1] * len(breasts)\n",
    "print('-- Выделены все признаки: ', allOnes, ', accuracy = ', breasts.get_mean_accuracy(allOnes))"
   ]
  },
  {
   "cell_type": "code",
   "execution_count": 152,
   "metadata": {},
   "outputs": [
    {
     "name": "stdout",
     "output_type": "stream",
     "text": [
      "Верность повысилась на 0.0229\n"
     ]
    }
   ],
   "source": [
    "diff = breasts.get_mean_accuracy(hof.items[0]) - breasts.get_mean_accuracy(allOnes)\n",
    "print('Верность повысилась на {:.4f}'.format(diff))"
   ]
  }
 ],
 "metadata": {
  "kernelspec": {
   "display_name": "Python 3.9.12 ('base')",
   "language": "python",
   "name": "python3"
  },
  "language_info": {
   "codemirror_mode": {
    "name": "ipython",
    "version": 3
   },
   "file_extension": ".py",
   "mimetype": "text/x-python",
   "name": "python",
   "nbconvert_exporter": "python",
   "pygments_lexer": "ipython3",
   "version": "3.9.12"
  },
  "orig_nbformat": 4,
  "vscode": {
   "interpreter": {
    "hash": "d4d1e4263499bec80672ea0156c357c1ee493ec2b1c70f0acce89fc37c4a6abe"
   }
  }
 },
 "nbformat": 4,
 "nbformat_minor": 2
}
