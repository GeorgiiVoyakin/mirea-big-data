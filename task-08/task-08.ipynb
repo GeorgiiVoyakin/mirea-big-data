{
 "cells": [
  {
   "cell_type": "code",
   "execution_count": 1,
   "metadata": {},
   "outputs": [],
   "source": [
    "import pandas as pd\n",
    "import numpy as np\n",
    "import matplotlib.pyplot as plt\n",
    "from scipy.stats import t\n",
    "from scipy.stats import sem\n",
    "from scipy.stats import f_oneway\n",
    "from scipy.stats import ttest_ind\n",
    "from statsmodels.formula.api import ols\n",
    "from statsmodels.stats.anova import anova_lm\n",
    "from statsmodels.stats.multicomp import pairwise_tukeyhsd"
   ]
  },
  {
   "cell_type": "code",
   "execution_count": 2,
   "metadata": {},
   "outputs": [],
   "source": [
    "df = pd.read_csv(\"insurance.csv\")"
   ]
  },
  {
   "cell_type": "code",
   "execution_count": 3,
   "metadata": {},
   "outputs": [
    {
     "data": {
      "text/plain": [
       "age         0\n",
       "sex         0\n",
       "bmi         0\n",
       "children    0\n",
       "smoker      0\n",
       "region      0\n",
       "charges     0\n",
       "dtype: int64"
      ]
     },
     "execution_count": 3,
     "metadata": {},
     "output_type": "execute_result"
    }
   ],
   "source": [
    "df.isna().sum()"
   ]
  },
  {
   "cell_type": "code",
   "execution_count": 4,
   "metadata": {},
   "outputs": [
    {
     "data": {
      "text/plain": [
       "array(['southwest', 'southeast', 'northwest', 'northeast'], dtype=object)"
      ]
     },
     "execution_count": 4,
     "metadata": {},
     "output_type": "execute_result"
    }
   ],
   "source": [
    "df['region'].unique()"
   ]
  },
  {
   "cell_type": "code",
   "execution_count": 5,
   "metadata": {},
   "outputs": [],
   "source": [
    "southwest = df[df['region'] == 'southwest']['bmi']\n",
    "southeast = df[df['region'] == 'southeast']['bmi']\n",
    "northwest = df[df['region'] == 'northwest']['bmi']\n",
    "northeast = df[df['region'] == 'northeast']['bmi']"
   ]
  },
  {
   "cell_type": "code",
   "execution_count": 6,
   "metadata": {},
   "outputs": [
    {
     "data": {
      "text/plain": [
       "F_onewayResult(statistic=39.49505720170283, pvalue=1.881838913929143e-24)"
      ]
     },
     "execution_count": 6,
     "metadata": {},
     "output_type": "execute_result"
    }
   ],
   "source": [
    "f_oneway(southwest, southeast, northwest, northeast)"
   ]
  },
  {
   "cell_type": "code",
   "execution_count": 7,
   "metadata": {},
   "outputs": [
    {
     "data": {
      "text/html": [
       "<div>\n",
       "<style scoped>\n",
       "    .dataframe tbody tr th:only-of-type {\n",
       "        vertical-align: middle;\n",
       "    }\n",
       "\n",
       "    .dataframe tbody tr th {\n",
       "        vertical-align: top;\n",
       "    }\n",
       "\n",
       "    .dataframe thead th {\n",
       "        text-align: right;\n",
       "    }\n",
       "</style>\n",
       "<table border=\"1\" class=\"dataframe\">\n",
       "  <thead>\n",
       "    <tr style=\"text-align: right;\">\n",
       "      <th></th>\n",
       "      <th>df</th>\n",
       "      <th>sum_sq</th>\n",
       "      <th>mean_sq</th>\n",
       "      <th>F</th>\n",
       "      <th>PR(&gt;F)</th>\n",
       "    </tr>\n",
       "  </thead>\n",
       "  <tbody>\n",
       "    <tr>\n",
       "      <th>region</th>\n",
       "      <td>3.0</td>\n",
       "      <td>4055.880631</td>\n",
       "      <td>1351.960210</td>\n",
       "      <td>39.495057</td>\n",
       "      <td>1.881839e-24</td>\n",
       "    </tr>\n",
       "    <tr>\n",
       "      <th>Residual</th>\n",
       "      <td>1334.0</td>\n",
       "      <td>45664.319755</td>\n",
       "      <td>34.231124</td>\n",
       "      <td>NaN</td>\n",
       "      <td>NaN</td>\n",
       "    </tr>\n",
       "  </tbody>\n",
       "</table>\n",
       "</div>"
      ],
      "text/plain": [
       "              df        sum_sq      mean_sq          F        PR(>F)\n",
       "region       3.0   4055.880631  1351.960210  39.495057  1.881839e-24\n",
       "Residual  1334.0  45664.319755    34.231124        NaN           NaN"
      ]
     },
     "execution_count": 7,
     "metadata": {},
     "output_type": "execute_result"
    }
   ],
   "source": [
    "model = ols('bmi ~ region', data=df).fit()\n",
    "anova_lm(model, typ=1)"
   ]
  },
  {
   "cell_type": "code",
   "execution_count": 8,
   "metadata": {},
   "outputs": [
    {
     "name": "stdout",
     "output_type": "stream",
     "text": [
      "southwest southeast\n",
      "Ttest_indResult(statistic=-5.908373821545118, pvalue=5.4374009639680636e-09)\n",
      "southwest northwest\n",
      "Ttest_indResult(statistic=3.2844171500398582, pvalue=0.001076958496307695)\n",
      "southwest northeast\n",
      "Ttest_indResult(statistic=3.1169000930045923, pvalue=0.0019086161671573072)\n",
      "southeast northwest\n",
      "Ttest_indResult(statistic=9.25649013552548, pvalue=2.643571405230106e-19)\n",
      "southeast northeast\n",
      "Ttest_indResult(statistic=8.790905562598699, pvalue=1.186014937424813e-17)\n",
      "northwest northeast\n",
      "Ttest_indResult(statistic=0.060307727183293185, pvalue=0.951929170821864)\n"
     ]
    }
   ],
   "source": [
    "regions = df['region'].unique()\n",
    "regions_bmi = [southwest, southeast, northwest, northeast]\n",
    "for r1 in range(len(regions)):\n",
    "    for r2 in range(r1 + 1, len(regions)):\n",
    "        print(regions[r1], regions[r2])\n",
    "        print(ttest_ind(regions_bmi[r1], regions_bmi[r2]))"
   ]
  },
  {
   "cell_type": "code",
   "execution_count": 9,
   "metadata": {},
   "outputs": [
    {
     "data": {
      "text/html": [
       "<table class=\"simpletable\">\n",
       "<caption>Multiple Comparison of Means - Tukey HSD, FWER=0.05</caption>\n",
       "<tr>\n",
       "   <th>group1</th>    <th>group2</th>   <th>meandiff</th>  <th>p-adj</th>  <th>lower</th>   <th>upper</th>  <th>reject</th>\n",
       "</tr>\n",
       "<tr>\n",
       "  <td>northeast</td> <td>northwest</td>  <td>0.0263</td>  <td>0.9999</td> <td>-1.1552</td> <td>1.2078</td>   <td>False</td>\n",
       "</tr>\n",
       "<tr>\n",
       "  <td>northeast</td> <td>southeast</td>  <td>4.1825</td>   <td>-0.0</td>   <td>3.033</td>   <td>5.332</td>   <td>True</td> \n",
       "</tr>\n",
       "<tr>\n",
       "  <td>northeast</td> <td>southwest</td>  <td>1.4231</td>  <td>0.0107</td> <td>0.2416</td>  <td>2.6046</td>   <td>True</td> \n",
       "</tr>\n",
       "<tr>\n",
       "  <td>northwest</td> <td>southeast</td>  <td>4.1562</td>   <td>-0.0</td>  <td>3.0077</td>  <td>5.3047</td>   <td>True</td> \n",
       "</tr>\n",
       "<tr>\n",
       "  <td>northwest</td> <td>southwest</td>  <td>1.3968</td>  <td>0.0127</td> <td>0.2162</td>  <td>2.5774</td>   <td>True</td> \n",
       "</tr>\n",
       "<tr>\n",
       "  <td>southeast</td> <td>southwest</td>  <td>-2.7594</td>   <td>0.0</td>  <td>-3.9079</td> <td>-1.6108</td>  <td>True</td> \n",
       "</tr>\n",
       "</table>"
      ],
      "text/plain": [
       "<class 'statsmodels.iolib.table.SimpleTable'>"
      ]
     },
     "execution_count": 9,
     "metadata": {},
     "output_type": "execute_result"
    },
    {
     "data": {
      "image/png": "[encoded data removed]",
      "text/plain": [
       "<Figure size 720x432 with 1 Axes>"
      ]
     },
     "metadata": {
      "needs_background": "light"
     },
     "output_type": "display_data"
    }
   ],
   "source": [
    "tukey = pairwise_tukeyhsd(endog=df['bmi'], groups=df['region'], alpha=0.05)\n",
    "tukey.plot_simultaneous()\n",
    "confidence_interval = t.interval(alpha=0.95, df=len(df['bmi'])-1, loc=np.mean(df['bmi']), scale=sem(df['bmi']))\n",
    "plt.vlines(x=confidence_interval, ymin=-1, ymax=4, color='red')\n",
    "tukey.summary()"
   ]
  },
  {
   "cell_type": "code",
   "execution_count": 10,
   "metadata": {},
   "outputs": [
    {
     "data": {
      "text/html": [
       "<div>\n",
       "<style scoped>\n",
       "    .dataframe tbody tr th:only-of-type {\n",
       "        vertical-align: middle;\n",
       "    }\n",
       "\n",
       "    .dataframe tbody tr th {\n",
       "        vertical-align: top;\n",
       "    }\n",
       "\n",
       "    .dataframe thead th {\n",
       "        text-align: right;\n",
       "    }\n",
       "</style>\n",
       "<table border=\"1\" class=\"dataframe\">\n",
       "  <thead>\n",
       "    <tr style=\"text-align: right;\">\n",
       "      <th></th>\n",
       "      <th>sum_sq</th>\n",
       "      <th>df</th>\n",
       "      <th>F</th>\n",
       "      <th>PR(&gt;F)</th>\n",
       "    </tr>\n",
       "  </thead>\n",
       "  <tbody>\n",
       "    <tr>\n",
       "      <th>C(region)</th>\n",
       "      <td>4034.975135</td>\n",
       "      <td>3.0</td>\n",
       "      <td>39.336119</td>\n",
       "      <td>2.342323e-24</td>\n",
       "    </tr>\n",
       "    <tr>\n",
       "      <th>C(sex)</th>\n",
       "      <td>86.007035</td>\n",
       "      <td>1.0</td>\n",
       "      <td>2.515393</td>\n",
       "      <td>1.129767e-01</td>\n",
       "    </tr>\n",
       "    <tr>\n",
       "      <th>Residual</th>\n",
       "      <td>45578.312720</td>\n",
       "      <td>1333.0</td>\n",
       "      <td>NaN</td>\n",
       "      <td>NaN</td>\n",
       "    </tr>\n",
       "  </tbody>\n",
       "</table>\n",
       "</div>"
      ],
      "text/plain": [
       "                 sum_sq      df          F        PR(>F)\n",
       "C(region)   4034.975135     3.0  39.336119  2.342323e-24\n",
       "C(sex)        86.007035     1.0   2.515393  1.129767e-01\n",
       "Residual   45578.312720  1333.0        NaN           NaN"
      ]
     },
     "execution_count": 10,
     "metadata": {},
     "output_type": "execute_result"
    }
   ],
   "source": [
    "model2 = ols('bmi ~ C(region) + C(sex)', data=df).fit()\n",
    "anova_lm(model2, typ=2)"
   ]
  },
  {
   "cell_type": "code",
   "execution_count": 11,
   "metadata": {},
   "outputs": [
    {
     "data": {
      "text/html": [
       "<table class=\"simpletable\">\n",
       "<caption>Multiple Comparison of Means - Tukey HSD, FWER=0.05</caption>\n",
       "<tr>\n",
       "        <th>group1</th>             <th>group2</th>       <th>meandiff</th>  <th>p-adj</th>  <th>lower</th>   <th>upper</th>  <th>reject</th>\n",
       "</tr>\n",
       "<tr>\n",
       "  <td>northeast / female</td>  <td>northeast / male</td>   <td>-0.2998</td> <td>0.9998</td> <td>-2.2706</td> <td>1.6711</td>   <td>False</td>\n",
       "</tr>\n",
       "<tr>\n",
       "  <td>northeast / female</td> <td>northwest / female</td>  <td>-0.0464</td>   <td>1.0</td>  <td>-2.0142</td> <td>1.9215</td>   <td>False</td>\n",
       "</tr>\n",
       "<tr>\n",
       "  <td>northeast / female</td>  <td>northwest / male</td>   <td>-0.2042</td>   <td>1.0</td>  <td>-2.1811</td> <td>1.7728</td>   <td>False</td>\n",
       "</tr>\n",
       "<tr>\n",
       "  <td>northeast / female</td> <td>southeast / female</td>  <td>3.3469</td>    <td>0.0</td>   <td>1.41</td>   <td>5.2839</td>   <td>True</td> \n",
       "</tr>\n",
       "<tr>\n",
       "  <td>northeast / female</td>  <td>southeast / male</td>   <td>4.6657</td>    <td>0.0</td>  <td>2.7634</td>   <td>6.568</td>   <td>True</td> \n",
       "</tr>\n",
       "<tr>\n",
       "  <td>northeast / female</td> <td>southwest / female</td>  <td>0.7362</td>  <td>0.9497</td> <td>-1.2377</td>  <td>2.71</td>    <td>False</td>\n",
       "</tr>\n",
       "<tr>\n",
       "  <td>northeast / female</td>  <td>southwest / male</td>   <td>1.8051</td>  <td>0.1007</td> <td>-0.1657</td>  <td>3.776</td>   <td>False</td>\n",
       "</tr>\n",
       "<tr>\n",
       "   <td>northeast / male</td>  <td>northwest / female</td>  <td>0.2534</td>  <td>0.9999</td> <td>-1.7083</td> <td>2.2152</td>   <td>False</td>\n",
       "</tr>\n",
       "<tr>\n",
       "   <td>northeast / male</td>   <td>northwest / male</td>   <td>0.0956</td>    <td>1.0</td>  <td>-1.8752</td> <td>2.0665</td>   <td>False</td>\n",
       "</tr>\n",
       "<tr>\n",
       "   <td>northeast / male</td>  <td>southeast / female</td>  <td>3.6467</td>    <td>0.0</td>  <td>1.7159</td>  <td>5.5775</td>   <td>True</td> \n",
       "</tr>\n",
       "<tr>\n",
       "   <td>northeast / male</td>   <td>southeast / male</td>   <td>4.9655</td>    <td>0.0</td>  <td>3.0695</td>  <td>6.8614</td>   <td>True</td> \n",
       "</tr>\n",
       "<tr>\n",
       "   <td>northeast / male</td>  <td>southwest / female</td>   <td>1.036</td>  <td>0.7515</td> <td>-0.9318</td> <td>3.0037</td>   <td>False</td>\n",
       "</tr>\n",
       "<tr>\n",
       "   <td>northeast / male</td>   <td>southwest / male</td>   <td>2.1049</td>  <td>0.0258</td> <td>0.1402</td>  <td>4.0697</td>   <td>True</td> \n",
       "</tr>\n",
       "<tr>\n",
       "  <td>northwest / female</td>  <td>northwest / male</td>   <td>-0.1578</td>   <td>1.0</td>  <td>-2.1257</td>  <td>1.81</td>    <td>False</td>\n",
       "</tr>\n",
       "<tr>\n",
       "  <td>northwest / female</td> <td>southeast / female</td>  <td>3.3933</td>    <td>0.0</td>  <td>1.4656</td>   <td>5.321</td>   <td>True</td> \n",
       "</tr>\n",
       "<tr>\n",
       "  <td>northwest / female</td>  <td>southeast / male</td>    <td>4.712</td>    <td>0.0</td>  <td>2.8192</td>  <td>6.6049</td>   <td>True</td> \n",
       "</tr>\n",
       "<tr>\n",
       "  <td>northwest / female</td> <td>southwest / female</td>  <td>0.7825</td>  <td>0.9294</td> <td>-1.1822</td> <td>2.7473</td>   <td>False</td>\n",
       "</tr>\n",
       "<tr>\n",
       "  <td>northwest / female</td>  <td>southwest / male</td>   <td>1.8515</td>  <td>0.0806</td> <td>-0.1103</td> <td>3.8132</td>   <td>False</td>\n",
       "</tr>\n",
       "<tr>\n",
       "   <td>northwest / male</td>  <td>southeast / female</td>  <td>3.5511</td>    <td>0.0</td>  <td>1.6141</td>  <td>5.4881</td>   <td>True</td> \n",
       "</tr>\n",
       "<tr>\n",
       "   <td>northwest / male</td>   <td>southeast / male</td>   <td>4.8698</td>    <td>0.0</td>  <td>2.9676</td>  <td>6.7721</td>   <td>True</td> \n",
       "</tr>\n",
       "<tr>\n",
       "   <td>northwest / male</td>  <td>southwest / female</td>  <td>0.9403</td>  <td>0.8354</td> <td>-1.0335</td> <td>2.9142</td>   <td>False</td>\n",
       "</tr>\n",
       "<tr>\n",
       "   <td>northwest / male</td>   <td>southwest / male</td>   <td>2.0093</td>   <td>0.042</td> <td>0.0385</td>  <td>3.9801</td>   <td>True</td> \n",
       "</tr>\n",
       "<tr>\n",
       "  <td>southeast / female</td>  <td>southeast / male</td>   <td>1.3187</td>  <td>0.3823</td> <td>-0.542</td>  <td>3.1795</td>   <td>False</td>\n",
       "</tr>\n",
       "<tr>\n",
       "  <td>southeast / female</td> <td>southwest / female</td>  <td>-2.6108</td> <td>0.0011</td> <td>-4.5446</td> <td>-0.6769</td>  <td>True</td> \n",
       "</tr>\n",
       "<tr>\n",
       "  <td>southeast / female</td>  <td>southwest / male</td>   <td>-1.5418</td> <td>0.2304</td> <td>-3.4726</td>  <td>0.389</td>   <td>False</td>\n",
       "</tr>\n",
       "<tr>\n",
       "   <td>southeast / male</td>  <td>southwest / female</td>  <td>-3.9295</td>   <td>0.0</td>  <td>-5.8286</td> <td>-2.0304</td>  <td>True</td> \n",
       "</tr>\n",
       "<tr>\n",
       "   <td>southeast / male</td>   <td>southwest / male</td>   <td>-2.8606</td> <td>0.0001</td> <td>-4.7565</td> <td>-0.9646</td>  <td>True</td> \n",
       "</tr>\n",
       "<tr>\n",
       "  <td>southwest / female</td>  <td>southwest / male</td>    <td>1.069</td>  <td>0.7201</td> <td>-0.8988</td> <td>3.0367</td>   <td>False</td>\n",
       "</tr>\n",
       "</table>"
      ],
      "text/plain": [
       "<class 'statsmodels.iolib.table.SimpleTable'>"
      ]
     },
     "execution_count": 11,
     "metadata": {},
     "output_type": "execute_result"
    },
    {
     "data": {
      "image/png": "[encoded data removed]",
      "text/plain": [
       "<Figure size 720x432 with 1 Axes>"
      ]
     },
     "metadata": {
      "needs_background": "light"
     },
     "output_type": "display_data"
    }
   ],
   "source": [
    "df['combination'] = df['region'] + ' / ' + df['sex']\n",
    "tukey2 = pairwise_tukeyhsd(endog=df['bmi'], groups=df['combination'], alpha=0.05)\n",
    "tukey2.plot_simultaneous()\n",
    "plt.vlines(x=confidence_interval, ymin=-1, ymax=8, color='red')\n",
    "tukey2.summary()"
   ]
  }
 ],
 "metadata": {
  "kernelspec": {
   "display_name": "Python 3.9.12 ('base')",
   "language": "python",
   "name": "python3"
  },
  "language_info": {
   "codemirror_mode": {
    "name": "ipython",
    "version": 3
   },
   "file_extension": ".py",
   "mimetype": "text/x-python",
   "name": "python",
   "nbconvert_exporter": "python",
   "pygments_lexer": "ipython3",
   "version": "3.9.12"
  },
  "orig_nbformat": 4,
  "vscode": {
   "interpreter": {
    "hash": "d4d1e4263499bec80672ea0156c357c1ee493ec2b1c70f0acce89fc37c4a6abe"
   }
  }
 },
 "nbformat": 4,
 "nbformat_minor": 2
}
